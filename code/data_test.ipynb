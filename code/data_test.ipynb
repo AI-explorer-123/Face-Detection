{
 "cells": [
  {
   "cell_type": "code",
   "execution_count": null,
   "metadata": {},
   "outputs": [],
   "source": [
    "import cv2 as cv\n",
    "import sys\n",
    "import numpy as np\n",
    "import matplotlib.pyplot as plt\n",
    "%matplotlib inline\n",
    "from einops import rearrange, repeat, reduce\n",
    "\n",
    "img1 = cv.imread(cv.samples.findFile(\n",
    "    \"D:/my/study/code/Face_detection/data/Caltech_WebFaces/pic00001.jpg\"))\n",
    "img2 = cv.imread(cv.samples.findFile(\n",
    "    \"D:/my/study/code/Face_detection/data/Caltech_WebFaces/pic00002.jpg\"))\n",
    "cv.imshow(\"Display window\", img)\n",
    "\n",
    "k = cv.waitKey(0)  # Wait for a keystroke in the window\n",
    "# img1.dtype"
   ]
  },
  {
   "cell_type": "code",
   "execution_count": null,
   "metadata": {},
   "outputs": [],
   "source": [
    "cv.imshow(\"Display window\", cv.cvtColor(img2, cv.COLOR_BGR2GRAY))\n",
    "\n",
    "k = cv.waitKey(0)  # Wait for a keystroke in the window\n"
   ]
  },
  {
   "cell_type": "code",
   "execution_count": null,
   "metadata": {},
   "outputs": [],
   "source": [
    "face_cascade = cv.CascadeClassifier(\n",
    "    cv.data.haarcascades+'haarcascade_frontalface_default.xml')"
   ]
  },
  {
   "cell_type": "code",
   "execution_count": null,
   "metadata": {},
   "outputs": [],
   "source": [
    "number = \"00001\"\n",
    "img = cv.imread(cv.samples.findFile(f\"D:/my/study\\code\\Face_detection\\data\\Caltech_WebFaces\\pic{number}.jpg\"))\n",
    "# img = cv.cvtColor(img, cv.COLOR_BGR2GRAY)\n",
    "faces = face_cascade.detectMultiScale(img, scaleFactor=1.3, minNeighbors=5)\n",
    "\n",
    "for (x, y, w, h) in faces:\n",
    "   img = cv.rectangle(img, (x, y), (x+w, y+h), (255, 0, 0), 2)\n",
    "\n",
    "cv.imshow('img', img)\n",
    "cv.waitKey(0)\n",
    "cv.destroyAllWindows()"
   ]
  },
  {
   "cell_type": "code",
   "execution_count": null,
   "metadata": {},
   "outputs": [],
   "source": [
    "def crop_calculate(h0, w0, coordinates):\n",
    "    # unzip:\n",
    "    leye_x, leye_y, reye_x, reye_y, nose_x, nose_y, mouth_x, mouth_y = coordinates\n",
    "    # 鼻子作为center\n",
    "    center_x = nose_x\n",
    "    center_y = nose_y\n",
    "    face_h = 2*(mouth_y-(leye_y+reye_y)/2)\n",
    "    face_w = 2*(reye_x-leye_x)\n",
    "    upper = max(0, round(center_y-(face_h/2)*1.5))\n",
    "    lower = min(h0, round(center_y+face_h/2))\n",
    "    left = max(0, round(center_x-face_w/2))\n",
    "    right = min(w0, round(center_x+face_w/2))\n",
    "    return upper, lower, left, right"
   ]
  },
  {
   "cell_type": "code",
   "execution_count": null,
   "metadata": {},
   "outputs": [],
   "source": [
    "with open('../data/WebFaces_GroundThruth.txt') as f:\n",
    "    faces = f.readlines()\n",
    "all = []\n",
    "for face in faces:\n",
    "    all.append(tuple(face.strip().split(' ')))"
   ]
  },
  {
   "cell_type": "code",
   "execution_count": null,
   "metadata": {},
   "outputs": [],
   "source": [
    "from tqdm import tqdm\n",
    "h = []\n",
    "w = []\n",
    "path = 'D:/my/study/code/Face_detection/data/Caltech_WebFaces/'\n",
    "for picture, *coordinates in tqdm(all):\n",
    "    img = cv.imread(cv.samples.findFile(path+picture))\n",
    "    upper, lower, left, right = crop_calculate(img.shape[0], img.shape[1], [float(x) for x in coordinates])\n",
    "    h.append(lower-upper)\n",
    "    w.append(right-left)"
   ]
  },
  {
   "cell_type": "code",
   "execution_count": null,
   "metadata": {},
   "outputs": [],
   "source": [
    "from matplotlib import pyplot as plt\n",
    "%matplotlib inline\n",
    "\n",
    "# 参数依次为list,抬头,X轴标签,Y轴标签,XY轴的范围\n",
    "\n",
    "import numpy as np\n",
    "np.mean(w)\n",
    "def draw_hist(myList):\n",
    "    plt.hist(myList, 100)\n",
    "draw_hist(w)"
   ]
  },
  {
   "cell_type": "code",
   "execution_count": 1,
   "metadata": {},
   "outputs": [],
   "source": [
    "import numpy as np\n",
    "samples = np.load('D:/my/study/code/Face_detection/data/feature/4_stride.npy')\n",
    "labels = np.load('D:/my/study/code/Face_detection/data/labels.npy')\n",
    "train_mask = np.load('D:/my/study/code/Face_detection/data/mask/train_mask.npy')\n",
    "test_mask = np.load('D:/my/study/code/Face_detection/data/mask/test_mask.npy')"
   ]
  },
  {
   "cell_type": "code",
   "execution_count": 2,
   "metadata": {},
   "outputs": [
    {
     "data": {
      "text/plain": [
       "(17616, 11004)"
      ]
     },
     "execution_count": 2,
     "metadata": {},
     "output_type": "execute_result"
    }
   ],
   "source": [
    "samples.shape"
   ]
  },
  {
   "cell_type": "code",
   "execution_count": 3,
   "metadata": {},
   "outputs": [],
   "source": [
    "from models import WeakClassifier, AdaBoost\n",
    "model = AdaBoost(weak_classifier=WeakClassifier, num_classifiers=32)"
   ]
  },
  {
   "cell_type": "code",
   "execution_count": null,
   "metadata": {},
   "outputs": [],
   "source": [
    "model.train(samples, labels, train_mask, test_mask)"
   ]
  },
  {
   "cell_type": "code",
   "execution_count": 5,
   "metadata": {},
   "outputs": [],
   "source": [
    "import pickle\n",
    "with open('D:/my/study/code/Face_detection/model/adaboost_4stride.pkl', 'wb') as f:\n",
    "     pickle.dump(model, f)"
   ]
  },
  {
   "cell_type": "code",
   "execution_count": 9,
   "metadata": {},
   "outputs": [],
   "source": [
    "with open('D:/my/study/code/Face_detection/data/test.txt', 'w') as f:\n",
    "    for i in range(5):\n",
    "        f.write(str(i))"
   ]
  },
  {
   "cell_type": "code",
   "execution_count": 1,
   "metadata": {},
   "outputs": [
    {
     "name": "stderr",
     "output_type": "stream",
     "text": [
      "Computing face coordinates: 100%|██████████| 10524/10524 [00:15<00:00, 693.32it/s]\n"
     ]
    }
   ],
   "source": [
    "import os\n",
    "import numpy as np\n",
    "import cv2 as cv\n",
    "import json\n",
    "from tqdm import tqdm\n",
    "from utils import locate_face, crop_face, extract_negative_sample, compute_all_haar_features\n",
    "\n",
    "target_size = (24, 24)\n",
    "\n",
    "# 提取所有人脸的位置信息并存储\n",
    "with open('D:/my/study/code/Face_detection/data/raw_data/WebFaces_GroundThruth.txt', 'r') as f:\n",
    "    lines = f.readlines()\n",
    "\n",
    "face_coordinates = {}\n",
    "image_folder = 'D:/my/study/code/Face_detection/data/raw_data/Caltech_WebFaces'\n",
    "for line in tqdm(lines, desc='Computing face coordinates'):\n",
    "    parts = line.strip().split()\n",
    "    image_name = parts[0]\n",
    "    image_path = os.path.join(image_folder, image_name)\n",
    "    img = cv.imread(image_path)\n",
    "    coordinates = list(map(float, parts[1:]))\n",
    "    coordinates = locate_face(img, coordinates)\n",
    "    x, y, w, h = coordinates\n",
    "    coordinates = (x, y, x+w, y+h)\n",
    "    if image_name in face_coordinates:\n",
    "        face_coordinates[image_name].append(coordinates)\n",
    "    else:\n",
    "        face_coordinates[image_name] = [coordinates]"
   ]
  },
  {
   "cell_type": "code",
   "execution_count": 2,
   "metadata": {},
   "outputs": [
    {
     "name": "stderr",
     "output_type": "stream",
     "text": [
      "Generating samples and features: 100%|██████████| 7092/7092 [01:40<00:00, 70.72it/s]\n"
     ]
    }
   ],
   "source": [
    "stride = 12\n",
    "samples = []\n",
    "labels = []\n",
    "# 提取正负样本\n",
    "image_folder = 'D:/my/study/code/Face_detection/data/raw_data/Caltech_WebFaces'\n",
    "for image_name in tqdm(os.listdir(image_folder), desc='Generating samples and features'):\n",
    "    image_path = os.path.join(image_folder, image_name)\n",
    "    img = cv.imread(image_path)\n",
    "    img = cv.cvtColor(img, cv.COLOR_BGR2GRAY)\n",
    "\n",
    "    for face_coordinate in face_coordinates[image_name]:\n",
    "        face = crop_face(img, face_coordinate, target_size)\n",
    "        samples.append(compute_all_haar_features(face, stride=stride))\n",
    "        labels.append(1)\n",
    "\n",
    "    negative_sample = extract_negative_sample(img,\n",
    "                                            face_coordinates[image_name],\n",
    "                                            target_size)\n",
    "    samples.append(compute_all_haar_features(negative_sample, stride=stride))\n",
    "    labels.append(0)\n",
    "samples = np.array(samples)"
   ]
  },
  {
   "cell_type": "code",
   "execution_count": 3,
   "metadata": {},
   "outputs": [],
   "source": [
    "np.save('D:/my/study/code/Face_detection/data/feature/12_stride', samples)"
   ]
  },
  {
   "cell_type": "code",
   "execution_count": 26,
   "metadata": {},
   "outputs": [],
   "source": [
    "import pickle\n",
    "import numpy as np\n",
    "from sklearn.metrics import roc_curve\n",
    "from models import AdaBoost, Logistic\n",
    "\n",
    "feature = np.load('../data/feature/raw.npy')\n",
    "labels = np.load('../data/labels.npy')\n",
    "test_mask = np.load('../data/mask/test_mask.npy')\n",
    "train_mask = np.load('../data/mask/train_mask.npy')\n",
    "# with open('../model/logistic.pkl', 'rb') as f:\n",
    "#     model = pickle.load(f)"
   ]
  },
  {
   "cell_type": "code",
   "execution_count": 27,
   "metadata": {},
   "outputs": [
    {
     "name": "stdout",
     "output_type": "stream",
     "text": [
      "train_set: f1: 0.9391, auc: 0.9230, acc: 0.9261\n",
      "test_set: f1: 0.9168, auc: 0.9052, acc: 0.9072\n"
     ]
    },
    {
     "name": "stderr",
     "output_type": "stream",
     "text": [
      "d:\\Program Files (x86)\\anaconda\\envs\\zhk\\lib\\site-packages\\sklearn\\linear_model\\_logistic.py:460: ConvergenceWarning: lbfgs failed to converge (status=1):\n",
      "STOP: TOTAL NO. of ITERATIONS REACHED LIMIT.\n",
      "\n",
      "Increase the number of iterations (max_iter) or scale the data as shown in:\n",
      "    https://scikit-learn.org/stable/modules/preprocessing.html\n",
      "Please also refer to the documentation for alternative solver options:\n",
      "    https://scikit-learn.org/stable/modules/linear_model.html#logistic-regression\n",
      "  n_iter_i = _check_optimize_result(\n"
     ]
    }
   ],
   "source": [
    "from models import Logistic\n",
    "model = Logistic()\n",
    "model.train(feature, labels, train_mask, test_mask)"
   ]
  },
  {
   "cell_type": "code",
   "execution_count": 31,
   "metadata": {},
   "outputs": [],
   "source": [
    "fpr, tpr, th = roc_curve(labels, y_pred[:, 1])"
   ]
  },
  {
   "cell_type": "code",
   "execution_count": 34,
   "metadata": {},
   "outputs": [
    {
     "data": {
      "image/png": "[encoded data removed]",
      "text/plain": [
       "<Figure size 640x480 with 1 Axes>"
      ]
     },
     "metadata": {},
     "output_type": "display_data"
    }
   ],
   "source": [
    "import matplotlib.pyplot as plt\n",
    "%matplotlib inline\n",
    "plt.plot(fpr, tpr,color='darkorange', label='ROC curve')\n",
    "plt.plot([0, 1], [0, 1], color='navy', lw=2, linestyle='--')\n",
    "plt.axis(\"square\")\n",
    "plt.xlabel('False positive rate')\n",
    "plt.ylabel('True postive rate')\n",
    "plt.title(\"Logistic ROC curve\")\n",
    "plt.legend()\n",
    "plt.show()"
   ]
  }
 ],
 "metadata": {
  "kernelspec": {
   "display_name": "Python 3",
   "language": "python",
   "name": "python3"
  },
  "language_info": {
   "codemirror_mode": {
    "name": "ipython",
    "version": 3
   },
   "file_extension": ".py",
   "mimetype": "text/x-python",
   "name": "python",
   "nbconvert_exporter": "python",
   "pygments_lexer": "ipython3",
   "version": "3.8.18"
  }
 },
 "nbformat": 4,
 "nbformat_minor": 2
}
